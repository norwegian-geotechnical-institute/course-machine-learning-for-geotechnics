{
 "cells": [
  {
   "cell_type": "markdown",
   "id": "da582346",
   "metadata": {},
   "source": [
    "# Exercises\n",
    "\n",
    "This notebook contains exercises to practice the concepts covered in the course. Follow the instructions in each cell to complete the tasks."
   ]
  },
  {
   "cell_type": "code",
   "execution_count": null,
   "id": "292d3431",
   "metadata": {},
   "outputs": [
    {
     "name": "stderr",
     "output_type": "stream",
     "text": [
      "c:\\Users\\SjB\\git\\course-machine-learning-for-geotechnics\\.venv\\Lib\\site-packages\\tqdm\\auto.py:21: TqdmWarning: IProgress not found. Please update jupyter and ipywidgets. See https://ipywidgets.readthedocs.io/en/stable/user_install.html\n",
      "  from .autonotebook import tqdm as notebook_tqdm\n"
     ]
    },
    {
     "data": {
      "text/html": [
       "\n",
       "            <div>\n",
       "                <ins><a href=\"https://ydata.ai/register\">Upgrade to ydata-sdk</a></ins>\n",
       "                <p>\n",
       "                    Improve your data and profiling with ydata-sdk, featuring data quality scoring, redundancy detection, outlier identification, text validation, and synthetic data generation.\n",
       "                </p>\n",
       "            </div>\n",
       "            "
      ],
      "text/plain": [
       "<IPython.core.display.HTML object>"
      ]
     },
     "metadata": {},
     "output_type": "display_data"
    }
   ],
   "source": [
    "# Imports\n",
    "import pandas as pd\n",
    "from ydata_profiling import ProfileReport\n",
    "from sklearn.model_selection import train_test_split"
   ]
  },
  {
   "cell_type": "markdown",
   "id": "4d05263e",
   "metadata": {},
   "source": [
   "## Exercise 1\n",
   "- Download the [earthquake-dataset](https://www.kaggle.com/datasets/warcoder/earthquake-dataset), and place it in the `data/raw` folder.\n",
   "- Note: The downloaded file may be named `database.csv` (or similar). Please rename it to `earthquake_dataset.csv` before placing it in the `data/raw` folder.\n",
   "- Load earthquake-dataset from `data/raw/earthquake_dataset.csv`\n",
   "- Drop these features: 'title', 'continent', 'alert', 'location', 'country'\n",
   "- Check the number of samples and features\n",
   "- Are the features normally distributed?\n",
   "- Do you see outliers for some features?\n",
   "- How many samples are there for each label? Unbalanced data.\n",
   "- Other issues or insights in data?"
  },
  {
   "cell_type": "code",
   "execution_count": null,
   "id": "be487b7e",
   "metadata": {},
   "outputs": [],
   "source": [
    "# Loading the dataset"
   ]
  },
  {
   "cell_type": "code",
   "execution_count": null,
   "id": "3d10ea6b",
   "metadata": {},
   "outputs": [],
   "source": [
    "# Dropping unnecessary features"
   ]
  },
  {
   "cell_type": "code",
   "execution_count": null,
   "id": "36d958d5",
   "metadata": {},
   "outputs": [],
   "source": [
    "# Checking the number of samples and features"
   ]
  },
  {
   "cell_type": "code",
   "execution_count": null,
   "id": "9fd8f3bd",
   "metadata": {},
   "outputs": [],
   "source": [
    "# Launch the profiling report to explore the dataset"
   ]
  },
  {
   "cell_type": "markdown",
   "id": "ec69ff4b",
   "metadata": {},
   "source": [
    "## Exercise 2\n",
    "- Make functionality to do necessary preprocessing based on your investigation in exercise 1.\n",
    "- Split the dataset in two using train_test_split from scikit-learn, using the option “stratify”."
   ]
  },
  {
   "cell_type": "code",
   "execution_count": null,
   "id": "6d3532ff",
   "metadata": {},
   "outputs": [],
   "source": [
    "# Preprocessing the data"
   ]
  },
  {
   "cell_type": "code",
   "execution_count": null,
   "id": "fdad88f3",
   "metadata": {},
   "outputs": [],
   "source": [
    "# Split the dataset using train_test_split"
   ]
  },
  {
   "cell_type": "markdown",
   "id": "9b42eb9c",
   "metadata": {},
   "source": [
    "## Exercise 3\n",
    "- Define a pipeline with scaler, balancing steps, and machine learning algorithm . Train a model to classify the data into tsunami or not (binary classifier). Report the accuracy metric.\n",
    "- Demonstrate results for different machine learning algorithms.\n"
   ]
  },
  {
   "cell_type": "code",
   "execution_count": null,
   "id": "617422f9",
   "metadata": {},
   "outputs": [],
   "source": [
    "# Code for Exercise 3"
   ]
  },
  {
   "cell_type": "code",
   "execution_count": null,
   "id": "0e749e7f",
   "metadata": {},
   "outputs": [],
   "source": [
    "# Training a simple model"
   ]
  }
 ],
 "metadata": {
  "kernelspec": {
   "display_name": "course-machine-learning-for-geotechnics (3.11.1)",
   "language": "python",
   "name": "python3"
  },
  "language_info": {
   "codemirror_mode": {
    "name": "ipython",
    "version": 3
   },
   "file_extension": ".py",
   "mimetype": "text/x-python",
   "name": "python",
   "nbconvert_exporter": "python",
   "pygments_lexer": "ipython3",
   "version": "3.11.1"
  }
 },
 "nbformat": 4,
 "nbformat_minor": 5
}
