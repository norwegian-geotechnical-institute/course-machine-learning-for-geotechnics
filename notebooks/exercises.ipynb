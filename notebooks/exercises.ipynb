{
 "cells": [
  {
   "cell_type": "markdown",
   "id": "8abdb2b0",
   "metadata": {},
   "source": [
    "# Exercises\n",
    "\n",
    "This notebook contains exercises to practice the concepts covered in the course. Follow the instructions in each cell to complete the tasks."
   ]
  },
  {
   "cell_type": "code",
   "execution_count": null,
   "id": "8fce0add",
   "metadata": {},
   "outputs": [],
   "source": [
    "# Imports\n",
    "import pandas as pd\n",
    "from ydata_profiling import ProfileReport\n",
    "from sklearn.model_selection import train_test_split"
   ]
  },
  {
   "cell_type": "markdown",
   "id": "09b5f9f7",
   "metadata": {},
   "source": [
    "## Exercise 1\n",
    "- Download the [earthquake-dataset](https://www.kaggle.com/datasets/warcoder/earthquake-dataset), and place it in the `data/raw` folder.\n",
    "- Load earthquake-dataset from `data/raw/earthquake_dataset.csv`\n",
    "- Drop these features: 'title', 'continent', 'alert', 'location', 'country'\n",
    "- Check the number of samples and features\n",
    "- Are the features normally distributed?\n",
    "- Do you see outliers for some features?\n",
    "- How many samples are there for each label? Unbalanced data.\n",
    "- Other issues or insights in data?"
   ]
  },
  {
   "cell_type": "code",
   "execution_count": null,
   "id": "9e9b7fd1",
   "metadata": {},
   "outputs": [],
   "source": [
    "# Loading the dataset\n",
    "df = pd.read_csv(\"../data/raw/earthquake_data.csv\")\n",
    "df.head()"
   ]
  },
  {
   "cell_type": "code",
   "execution_count": null,
   "id": "e6aa554b",
   "metadata": {},
   "outputs": [],
   "source": [
    "# Dropping unnecessary features\n",
    "df.columns\n",
    "df_preprocessed = df.drop(columns=[\"title\", \"continent\", \"location\", \"alert\", \"country\"])\n",
    "df_preprocessed = df_preprocessed[df_preprocessed[\"magType\"] == \"mww\"]"
   ]
  },
  {
   "cell_type": "code",
   "execution_count": null,
   "id": "6a5b276e",
   "metadata": {},
   "outputs": [],
   "source": [
    "df_preprocessed[\"magType\"] == \"mww\""
   ]
  },
  {
   "cell_type": "code",
   "execution_count": null,
   "id": "5e50070b",
   "metadata": {},
   "outputs": [],
   "source": [
    "# Checking the number of samples and features\n",
    "df_preprocessed.info()"
   ]
  },
  {
   "cell_type": "code",
   "execution_count": null,
   "id": "e3b70f67",
   "metadata": {},
   "outputs": [],
   "source": [
    "# Launch the profiling report to explore the dataset\n",
    "profile = ProfileReport(df_preprocessed, title=\"Earthquake Data Profiling Report\")\n",
    "profile.to_file(\"earthquake_profiling_report.html\")"
   ]
  },
  {
   "cell_type": "markdown",
   "id": "f200bae3",
   "metadata": {},
   "source": [
    "Notes:\n",
    "- Net highly imbalanced, should be removed\n",
    "- Magtype may not be useful\n",
    "- Date_time should be excluded, it doesn't affect tsunami\n",
    "- Intensity metrics  [cdi, mmi, sig]\n",
    "- sig has a higher resolution of values than other intensity metrics\n",
    "- net should be removed or used for preprocessing\n",
    "- nst we should remove zeros"
   ]
  },
  {
   "cell_type": "markdown",
   "id": "1ec8c914",
   "metadata": {},
   "source": [
    "## Exercise 2\n",
    "- Make functionality to do necessary preprocessing based on your investigation in exercise 1.\n",
    "- Split the dataset in two using train_test_split from scikit-learn, using the option “stratify”."
   ]
  },
  {
   "cell_type": "code",
   "execution_count": null,
   "id": "495d4956",
   "metadata": {},
   "outputs": [],
   "source": [
    "# Preprocessing the data"
   ]
  },
  {
   "cell_type": "code",
   "execution_count": null,
   "id": "193bcc57",
   "metadata": {},
   "outputs": [],
   "source": [
    "# Split the dataset using train_test_split"
   ]
  },
  {
   "cell_type": "markdown",
   "id": "611db24a",
   "metadata": {},
   "source": [
    "## Exercise 3\n",
    "- Define a pipeline with scaler, balancing steps, and machine learning algorithm . Train a model to classify the data into tsunami or not (binary classifier). Report the accuracy metric.\n",
    "- Demonstrate results for different machine learning algorithms."
   ]
  },
  {
   "cell_type": "code",
   "execution_count": null,
   "id": "f0b1985f",
   "metadata": {},
   "outputs": [],
   "source": [
    "# Code for Exercise 3"
   ]
  },
  {
   "cell_type": "code",
   "execution_count": null,
   "id": "3f44dc82",
   "metadata": {},
   "outputs": [],
   "source": [
    "# Training a simple model"
   ]
  }
 ],
 "metadata": {
  "language_info": {
   "name": "python"
  }
 },
 "nbformat": 4,
 "nbformat_minor": 5
}
